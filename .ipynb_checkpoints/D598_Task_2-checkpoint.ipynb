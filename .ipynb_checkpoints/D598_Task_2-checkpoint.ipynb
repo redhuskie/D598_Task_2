{
 "cells": [
  {
   "cell_type": "markdown",
   "id": "9e3ed21a-955c-4461-beed-e9923c401db1",
   "metadata": {},
   "source": [
    "Analytics Programming — D598  \n",
    "QKN1 — QKN1 Task 2: Coding  \n",
    "Student - John D. Pickering    \n",
    "Programming Language - Python  \n",
    "Other Information: Panda and NumPy  \n",
    "Date: 9/12/2025"
   ]
  },
  {
   "cell_type": "markdown",
   "id": "6f59c4d6-c93d-4912-85bd-5c9a982b3868",
   "metadata": {},
   "source": [
    "#### Table of Contents  \n",
    "Task 2\n",
    "- Step 1:  Import the data file into a data frame. \n",
    "- Step 2:  Identify any duplicate rows in the data set.\n",
    "- Step 3:  Group all IDs by state, then run descriptive statistics (mean, median, min, & max) for all numeric variables by state and store this result as a new data frame\n",
    "-  Step 4:  Filter the data frame to identify all businesses with debt-to-equity ratios that are negative.\n",
    "-  Step 5:  Create a new data frame that provides the debt-to-income ratio for every business in the data set. Debt-to-income ratio is defined as long-term debt divided by revenue.\n",
    "-  Step 6:  Concatenate the debt-to-income ratio data frame you created with the original data frame.  "
   ]
  },
  {
   "cell_type": "code",
   "execution_count": null,
   "id": "a00df0c7-331f-4617-8c77-09c0ee57a560",
   "metadata": {},
   "outputs": [],
   "source": [
    "# -----------------------------\n",
    "# Import Dependencies\n",
    "# -----------------------------\n",
    "import pandas as pd\n",
    "import seaborn as sns\n",
    "import matplotlib.pyplot as plt\n",
    "import numpy as np\n",
    "from scipy.stats import zscore\n",
    "import warnings\n",
    "\n",
    "warnings.filterwarnings('ignore')"
   ]
  },
  {
   "cell_type": "code",
   "execution_count": null,
   "id": "9c1188cc-4f57-4e13-add6-b514882e38d6",
   "metadata": {},
   "outputs": [],
   "source": [
    "# -----------------------------\n",
    "# Step 1. Import the data file into a data frame.\n",
    "# -----------------------------\n",
    "df = pd.read_excel('D598 Data Set.xlsx')\n",
    "print('Dataset has been imported')\n"
   ]
  },
  {
   "cell_type": "code",
   "execution_count": null,
   "id": "d181da0f-e3ad-4991-b93b-ac3a64b712f5",
   "metadata": {},
   "outputs": [],
   "source": [
    "# -----------------------------\n",
    "# Step 2. Identify any duplicate rows in the data set.\n",
    "# Send duplicates to Excel for review. \n",
    "# -----------------------------\n",
    "duplicates = df[df.duplicated()]\n",
    "\n",
    "print(\"Duplicate Rows:\")\n",
    "if duplicates.empty:\n",
    "    print(\"0 duplicate rows found.\")\n",
    "else:\n",
    "    print(f\"{len(duplicates)} duplicate rows found. Exporting to Excel for review...\")\n",
    "    # Export duplicate rows to an Excel file\n",
    "    duplicates.to_excel(\"duplicates_review.xlsx\", index=False)\n",
    "    print(\"Duplicate rows exported to 'duplicates_review.xlsx'\")"
   ]
  },
  {
   "cell_type": "code",
   "execution_count": null,
   "id": "5e212ebb-9879-4f9e-9dd0-41fcaa89bf9e",
   "metadata": {},
   "outputs": [],
   "source": [
    "# -----------------------------\n",
    "# Step 3. Group all IDs by state, then run descriptive statistics (mean, median, min, & max) \n",
    "# for all numeric variables by state and store this result as a new data frame\n",
    "# -----------------------------\n",
    "grouped_stats = df.groupby(\"Business State\").agg({\n",
    "    \"Total Long-term Debt\": [\"mean\", \"median\", \"min\", \"max\"],\n",
    "    \"Total Equity\": [\"mean\", \"median\", \"min\", \"max\"],\n",
    "    \"Debt to Equity\": [\"mean\", \"median\", \"min\", \"max\"],\n",
    "    \"Total Liabilities\": [\"mean\", \"median\", \"min\", \"max\"],\n",
    "    \"Total Revenue\": [\"mean\", \"median\", \"min\", \"max\"],\n",
    "    \"Profit Margin\": [\"mean\", \"median\", \"min\", \"max\"],\n",
    "})\n",
    "\n",
    "# Reorder MultiIndex so variables come first, then stats\n",
    "grouped_stats = grouped_stats.swaplevel(axis=1).sort_index(axis=1)\n",
    "\n",
    "# Style for readability\n",
    "styled = (\n",
    "    grouped_stats.style\n",
    "    .format(\"{:,.2f}\")                           # commas + 2 decimals\n",
    "    .set_caption(\"Descriptive Statistics by State\")  # table caption\n",
    "    .highlight_min(color=\"lightcoral\", axis=0)   # highlight min values\n",
    "    .highlight_max(color=\"lightgreen\", axis=0)   # highlight max values\n",
    "    .background_gradient(cmap=\"Blues\", axis=0)   # gradient shading\n",
    ")\n",
    "\n",
    "styled"
   ]
  },
  {
   "cell_type": "code",
   "execution_count": null,
   "id": "54229cdf-5750-478a-a0f0-6951ab9db35d",
   "metadata": {},
   "outputs": [],
   "source": [
    "# -----------------------------\n",
    "# Step 4. Filter the data frame to identify all businesses with debt-to-equity ratios that are negative.\n",
    "# -----------------------------\n",
    "negative_de_ratio = df[df[\"Debt to Equity\"] < 0]\n",
    "\n",
    "print(\"\\nBusinesses with Negative Debt-to-Equity Ratios:\")\n",
    "print(negative_de_ratio)"
   ]
  },
  {
   "cell_type": "code",
   "execution_count": null,
   "id": "f9564d89-fa3d-4a69-8c6b-53fe6f18ac81",
   "metadata": {},
   "outputs": [],
   "source": [
    "# -----------------------------\n",
    "# Stepe 5. Create a new data frame that provides the debt-to-income ratio for every business in the data set. \n",
    "# Debt-to-income ratio is defined as long-term debt divided by revenue.\n",
    "# Debt-to-income = Total Long-term Debt / Total Revenue\n",
    "# Created dataframe df_dti for Debt to Income Ratio. \n",
    "# -----------------------------\n",
    "# -----------------------------------------------------\n",
    "# Function: create_debt_to_income\n",
    "# Creates a DataFrame with Business ID and Debt-to-Income ratio\n",
    "# Handles division-by-zero by setting result to NaN\n",
    "# -----------------------------------------------------\n",
    "def create_debt_to_income(df):\n",
    "    df_dti = pd.DataFrame()\n",
    "    df_dti[\"Business ID\"] = df[\"Business ID\"]\n",
    "\n",
    "    # Use np.where to handle division by zero\n",
    "    df_dti[\"Debt-to-Income\"] = np.where(\n",
    "        df[\"Total Revenue\"] == 0,                # Uses 0 as the condition\n",
    "        np.nan,                                  # If true then update to NaN (Not a Number)\n",
    "        df[\"Total Long-term Debt\"] / df[\"Total Revenue\"]  # If not 0 then do the math. \n",
    "    )\n",
    "\n",
    "    return df_dti\n",
    "\n",
    "\n",
    "# Example usage\n",
    "df_dti = create_debt_to_income(df)\n",
    "\n",
    "print(\"\\nDebt-to-Income Ratio DataFrame:\")\n",
    "print(df_dti.head())\n"
   ]
  },
  {
   "cell_type": "code",
   "execution_count": null,
   "id": "cb4c5cfe-9b7f-47ad-811a-478de07fdfcf",
   "metadata": {},
   "outputs": [],
   "source": [
    "# -----------------------------\n",
    "# Step 6. Concatenate the debt-to-income ratio data frame you created with the original data frame.\n",
    "# -----------------------------\n",
    "df_final = pd.concat([df, df_dti[\"Debt-to-Income\"]], axis=1)\n",
    "\n",
    "print(\"\\nFinal DataFrame with Debt-to-Income Ratio:\")\n",
    "print(df_final.head())"
   ]
  },
  {
   "cell_type": "code",
   "execution_count": null,
   "id": "70adbb6e-478c-4e3f-9fdd-0ae466147e21",
   "metadata": {},
   "outputs": [],
   "source": []
  }
 ],
 "metadata": {
  "kernelspec": {
   "display_name": "Python (shap_env_new)",
   "language": "python",
   "name": "shap_env_new"
  },
  "language_info": {
   "codemirror_mode": {
    "name": "ipython",
    "version": 3
   },
   "file_extension": ".py",
   "mimetype": "text/x-python",
   "name": "python",
   "nbconvert_exporter": "python",
   "pygments_lexer": "ipython3",
   "version": "3.10.16"
  }
 },
 "nbformat": 4,
 "nbformat_minor": 5
}
